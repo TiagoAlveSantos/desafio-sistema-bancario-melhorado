{
 "cells": [
  {
   "cell_type": "code",
   "execution_count": 1,
   "id": "8b8fd59e-5db9-4ce3-9e45-db00a994351a",
   "metadata": {},
   "outputs": [],
   "source": [
    "import datetime as dt\n",
    "from datetime import timezone, timedelta"
   ]
  },
  {
   "cell_type": "code",
   "execution_count": 16,
   "id": "1cca37f7-988d-4d16-922e-912369667dea",
   "metadata": {},
   "outputs": [
    {
     "name": "stdin",
     "output_type": "stream",
     "text": [
      "\n",
      "\n",
      "    [d] Depositar\n",
      "    [s] Sacar\n",
      "    [e] Extrato\n",
      "    [q] Sair\n",
      "    \n",
      "    =>  d\n",
      "Digite o valor que deseja depositar: 100\n"
     ]
    },
    {
     "name": "stdout",
     "output_type": "stream",
     "text": [
      "Depósito de R$100.00 realizado com sucesso.\n"
     ]
    },
    {
     "name": "stdin",
     "output_type": "stream",
     "text": [
      "\n",
      "\n",
      "    [d] Depositar\n",
      "    [s] Sacar\n",
      "    [e] Extrato\n",
      "    [q] Sair\n",
      "    \n",
      "    =>  s\n",
      "Digite o valor que deseja sacar: 50\n"
     ]
    },
    {
     "name": "stdout",
     "output_type": "stream",
     "text": [
      "Saque de 50.0 realizado com sucesso.\n"
     ]
    },
    {
     "name": "stdin",
     "output_type": "stream",
     "text": [
      "\n",
      "\n",
      "    [d] Depositar\n",
      "    [s] Sacar\n",
      "    [e] Extrato\n",
      "    [q] Sair\n",
      "    \n",
      "    =>  e\n"
     ]
    },
    {
     "name": "stdout",
     "output_type": "stream",
     "text": [
      "\n",
      "=============== EXTRATO =================\n",
      "Depóstido de 100.0 realizado em 28/02/2025 11:12:49\n",
      "Saque de 50.0 realizado em 28/02/2025 11:12:51\n",
      "\n",
      "Saldo: R$50.00\n",
      "Seu limite diário de saque é de: R$500.00\n",
      "Você já realizou 2 transações hoje.\n",
      "==========================================\n"
     ]
    },
    {
     "name": "stdin",
     "output_type": "stream",
     "text": [
      "\n",
      "\n",
      "    [d] Depositar\n",
      "    [s] Sacar\n",
      "    [e] Extrato\n",
      "    [q] Sair\n",
      "    \n",
      "    =>  q\n"
     ]
    }
   ],
   "source": [
    "LIMITE_DIARIO = 500\n",
    "LIMITE_TRANSACOES = 10\n",
    "\n",
    "saldo = float(0)\n",
    "extrato = \"\"\n",
    "transacoes = []\n",
    "\n",
    "def menu():\n",
    "    menu = '''\n",
    "\n",
    "    [d] Depositar\n",
    "    [s] Sacar\n",
    "    [e] Extrato\n",
    "    [q] Sair\n",
    "    \n",
    "    => '''\n",
    "    return input(menu).lower()\n",
    "\n",
    "def data_completa():\n",
    "    data_completa_operacao = dt.datetime.now(timezone(timedelta(hours=-3))).strftime(\"%d/%m/%Y %H:%M:%S\")\n",
    "    #data_completa_operacao = dt.datetime.strftime(data_completa_operacao, \"%d/%m/%Y %H:%M:%S\")\n",
    "    return data_completa_operacao\n",
    "\n",
    "def data_operacao():\n",
    "    data_operacao = dt.datetime.now(timezone(timedelta(hours=-3))).strftime(\"%d/%m/%Y\")\n",
    "    return data_operacao\n",
    "\n",
    "def limite_transacoes():\n",
    "    return transacoes.count(data_operacao())\n",
    "    \n",
    "\n",
    "while True:\n",
    "    opcao = menu()\n",
    "    \n",
    "    if opcao == 'd':\n",
    "        if(limite_transacoes()<10):\n",
    "            valor_deposito = float(input('Digite o valor que deseja depositar:'))\n",
    "            if (valor_deposito <= 0):\n",
    "                print(\"Valor Inválido, tente novamente.\")\n",
    "            else:\n",
    "                saldo += float(valor_deposito)\n",
    "                transacoes.append(data_operacao())\n",
    "                print(f\"Depósito de R${valor_deposito:.2f} realizado com sucesso.\")\n",
    "                extrato += f'Depóstido de {valor_deposito} realizado em {data_completa()}\\n'\n",
    "        else:\n",
    "            print(\"Limite de Operações Excedido. Confira seu extrato\")\n",
    "    elif opcao == 's':\n",
    "        if(limite_transacoes()<10):\n",
    "            valor_saque = float(input('Digite o valor que deseja sacar:'))\n",
    "            if (valor_saque <= 0):\n",
    "                print(\"Valor Inválido, tente novamente.\")\n",
    "            elif (valor_saque <= LIMITE_DIARIO and saldo >= valor_saque) :\n",
    "                transacoes.append(data_operacao())\n",
    "                saldo -= float(valor_saque)\n",
    "                print(f'Saque de {valor_saque} realizado com sucesso.')\n",
    "                extrato += f'Saque de {valor_saque} realizado em {data_completa()}\\n'\n",
    "            elif valor_saque > saldo:\n",
    "                print('Saldo insuficiente.')\n",
    "            else:\n",
    "                print(\"Operação Inválida, confira seu extrato.\")\n",
    "        else:\n",
    "            print(\"Limite de Operações Excedido. Confira seu extrato\")\n",
    "    elif opcao == 'e':\n",
    "        print(\"\\n=============== EXTRATO =================\")\n",
    "        print('Não foram realizadas movimentações' if not extrato else extrato)\n",
    "        print(f'Saldo: R${saldo:.2f}')\n",
    "        print(f'Seu limite diário de saque é de: R${LIMITE_DIARIO:.2f}')\n",
    "        print(f'Você já realizou {limite_transacoes()} transações hoje.')\n",
    "        #if len(extrato) > 0:\n",
    "            #print('\\n' + extrato)\n",
    "        print(\"==========================================\")\n",
    "    elif opcao == 'q':\n",
    "        break\n",
    "    else:\n",
    "        print(\"Operação inválida. Selecione um menu.\")\n"
   ]
  }
 ],
 "metadata": {
  "kernelspec": {
   "display_name": "Python 3 (ipykernel)",
   "language": "python",
   "name": "python3"
  },
  "language_info": {
   "codemirror_mode": {
    "name": "ipython",
    "version": 3
   },
   "file_extension": ".py",
   "mimetype": "text/x-python",
   "name": "python",
   "nbconvert_exporter": "python",
   "pygments_lexer": "ipython3",
   "version": "3.11.6"
  }
 },
 "nbformat": 4,
 "nbformat_minor": 5
}
